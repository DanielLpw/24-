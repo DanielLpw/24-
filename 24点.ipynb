{
 "cells": [
  {
   "cell_type": "code",
   "execution_count": 1,
   "metadata": {},
   "outputs": [],
   "source": [
    "card_num = [i for i in range(1,14)]\n",
    "import random"
   ]
  },
  {
   "cell_type": "code",
   "execution_count": 9,
   "metadata": {},
   "outputs": [],
   "source": [
    "def cal(card1,card2,op):\n",
    "    if op == '+':\n",
    "        out = card1+card2\n",
    "    elif op == '-':\n",
    "        out = card1 - card2\n",
    "    elif op == '*':\n",
    "        out = card1 * card2\n",
    "    elif op == '/':\n",
    "        out = card1 / card2\n",
    "    else:\n",
    "        out = str('error!!!')\n",
    "    return out"
   ]
  },
  {
   "cell_type": "code",
   "execution_count": 21,
   "metadata": {},
   "outputs": [],
   "source": [
    "def test(cards):\n",
    "    op_set = ['+','-','*','/']\n",
    "    card1,card2,card3,card4 = cards\n",
    "    test = 100\n",
    "    for i in range(test):\n",
    "        op = random.choice(op_set)\n",
    "        R1 = cal(card1,card2,op)\n",
    "        op = random.choice(op_set)\n",
    "        R2 = cal(R1,card3,op)\n",
    "        op = random.choice(op_set)\n",
    "        R3 = cal(R2,card4,op)\n",
    "        if R3 ==24:\n",
    "            print('Found method!')"
   ]
  },
  {
   "cell_type": "code",
   "execution_count": 25,
   "metadata": {},
   "outputs": [
    {
     "name": "stdout",
     "output_type": "stream",
     "text": [
      "Found method!\n",
      "Found method!\n"
     ]
    }
   ],
   "source": [
    "cards = [random.choice(card_num) for card in range(4)]\n",
    "test(cards)"
   ]
  },
  {
   "cell_type": "code",
   "execution_count": 31,
   "metadata": {},
   "outputs": [],
   "source": [
    "collection1 = \"nene zhuzhu ya\".split()\n",
    "collection1\n",
    "collection2 = \"wo shi shui shuishi wo\".split()"
   ]
  },
  {
   "cell_type": "code",
   "execution_count": 3,
   "metadata": {},
   "outputs": [],
   "source": [
    "from itertools import product     #生成字符的组合用/"
   ]
  },
  {
   "cell_type": "code",
   "execution_count": 34,
   "metadata": {},
   "outputs": [],
   "source": [
    "def get_combin_op(cards):\n",
    "    card1,card2,card3,card4 = cards\n",
    "    expressions = []\n",
    "    operators = ['+','-','*','/']\n",
    "    for p in product(operators,repeat = len(cards)-1):\n",
    "        op1,op2,op3 = p\n",
    "        expressions.append(\"{}{}{}{}{}{}{}\".format(card1,op1,card2,op2,card3,op3,card4))\n",
    "    return expressions"
   ]
  },
  {
   "cell_type": "code",
   "execution_count": 37,
   "metadata": {},
   "outputs": [],
   "source": [
    "def join_op_with_brace_number(operators, with_brace):\n",
    "    \n",
    "    finally_exp = with_brace[0]\n",
    "    \n",
    "    for i, op in enumerate(operators):\n",
    "        finally_exp = ' '.join([finally_exp, op, with_brace[i+1]])\n",
    "    \n",
    "    return finally_exp"
   ]
  },
  {
   "cell_type": "code",
   "execution_count": 73,
   "metadata": {},
   "outputs": [
    {
     "name": "stdout",
     "output_type": "stream",
     "text": [
      "[6, 11, 6, 13]\n",
      "hit!!6+11-6+13\n",
      "hit!!6*11/6+13\n"
     ]
    }
   ],
   "source": [
    "#eval()用于直接计算字符串\n",
    "cards = [random.choice(card_num) for card in range(4)]\n",
    "print(cards)\n",
    "Target = 24\n",
    "for exp in get_combin_op(cards):\n",
    "    if eval(exp) == Target:\n",
    "        print(\"hit!!{}\".format(exp))"
   ]
  },
  {
   "cell_type": "code",
   "execution_count": 3,
   "metadata": {},
   "outputs": [],
   "source": [
    "from itertools import permutations    #生成所有排序"
   ]
  },
  {
   "cell_type": "code",
   "execution_count": 75,
   "metadata": {},
   "outputs": [],
   "source": [
    "new_cards = [random.choice(card_num) for card in range(4)]\n",
    "card_set = [card_s for card_s in permutations(new_cards)]    #排序"
   ]
  },
  {
   "cell_type": "code",
   "execution_count": 82,
   "metadata": {},
   "outputs": [],
   "source": [
    "def cal_total(setOFcard,Target=24):\n",
    "    for cards in setOFcard:\n",
    "        for exp in get_combin_op(cards):\n",
    "            if eval(exp) == Target:\n",
    "                print(\"hit!!{}\".format(exp))"
   ]
  },
  {
   "cell_type": "code",
   "execution_count": 91,
   "metadata": {},
   "outputs": [
    {
     "name": "stdout",
     "output_type": "stream",
     "text": [
      "[8, 6, 3, 13]\n",
      "hit!!3*13-8-6\n",
      "hit!!3*13-6-8\n",
      "hit!!13*3-8-6\n",
      "hit!!13*3-6-8\n"
     ]
    }
   ],
   "source": [
    "new_cards = [random.choice(card_num) for card in range(4)]\n",
    "print(new_cards)\n",
    "card_set = [card_s for card_s in permutations(new_cards)]    #排序\n",
    "cal_total(card_set)"
   ]
  },
  {
   "cell_type": "code",
   "execution_count": 25,
   "metadata": {},
   "outputs": [],
   "source": [
    "# def add_brace(numbers):\n",
    "#     if len(numbers)==1: return [numbers]\n",
    "#     if len(numbers)==2:\n",
    "#         h,t = numbers\n",
    "#         return [['('+str(h),str(t)+')']]\n",
    "#     result = []\n",
    "    \n",
    "#     for i in range(1, len(numbers)):\n",
    "#         prefix = numbers[:i]\n",
    "#        # assert len(prefix) < len(numbers)\n",
    "#         prefixs = add_brace(prefix)\n",
    "        \n",
    "#         tail = numbers[i:]\n",
    "#        # assert len(tail) < len(numbers)\n",
    "#         tails = add_brace(tail)\n",
    "        \n",
    "#         for p, t in product(prefixs, tails):\n",
    "#             brace_with_around = ['('+p[0]] + p[1:] + t[:-1] + [t[-1] + ')']\n",
    "#             results.append(brace_with_around)\n",
    "#     return result\n",
    "def add_brace(numbers):\n",
    "    if len(numbers) < 2: return [numbers]\n",
    "    if len(numbers) == 2: \n",
    "        return [['('+str(numbers[0])] + numbers[1:-1] + [str(numbers[-1])+')']]\n",
    "    \n",
    "    results = []\n",
    "    \n",
    "    for i in range(1, len(numbers)):\n",
    "        prefix = numbers[:i]\n",
    "       # assert len(prefix) < len(numbers)\n",
    "        prefixs = add_brace(prefix)\n",
    "        \n",
    "        tail = numbers[i:]\n",
    "       # assert len(tail) < len(numbers)\n",
    "        tails = add_brace(tail)\n",
    "        \n",
    "        for p, t in product(prefixs, tails):\n",
    "#             brace_with_around = ['('+p[0]] + p[1:] + t[:-1] + [t[-1] + ')']\n",
    "#             results.append(brace_with_around)\n",
    "                results.append(str(p)+str(t))\n",
    "    return results"
   ]
  },
  {
   "cell_type": "code",
   "execution_count": 26,
   "metadata": {},
   "outputs": [
    {
     "data": {
      "text/plain": [
       "[\"['1']['2']['(3', '4)']\",\n",
       " \"['1']['(2', '3)']['4']\",\n",
       " \"['(1', '2)']['(3', '4)']\",\n",
       " \"['1']['(2', '3)']['4']\",\n",
       " \"['(1', '2)']['3']['4']\"]"
      ]
     },
     "execution_count": 26,
     "metadata": {},
     "output_type": "execute_result"
    }
   ],
   "source": [
    "add_brace(\"1 2 3 4\".split())"
   ]
  },
  {
   "cell_type": "code",
   "execution_count": 41,
   "metadata": {},
   "outputs": [],
   "source": [
    "op_set = ['+','-','*','/']"
   ]
  },
  {
   "cell_type": "code",
   "execution_count": 50,
   "metadata": {},
   "outputs": [],
   "source": [
    "def join_op_with_brace_number(operators, with_brace):\n",
    "    \n",
    "    finally_exp = with_brace[0]\n",
    "    \n",
    "    for i, op in enumerate(operators):\n",
    "        finally_exp = ' '.join([finally_exp, op, with_brace[i+1]])\n",
    "    \n",
    "    return finally_exp"
   ]
  },
  {
   "cell_type": "code",
   "execution_count": 46,
   "metadata": {},
   "outputs": [
    {
     "data": {
      "text/plain": [
       "[['(1', '(2', '(3', '4)))'],\n",
       " ['(1', '((2', '3)', '4))'],\n",
       " ['((1', '2)', '(3', '4))'],\n",
       " ['((1', '(2', '3))', '4)'],\n",
       " ['(((1', '2)', '3)', '4)']]"
      ]
     },
     "execution_count": 46,
     "metadata": {},
     "output_type": "execute_result"
    }
   ],
   "source": [
    "brace_num = add_brace(\"1 2 3 4\".split())\n",
    "brace_num"
   ]
  },
  {
   "cell_type": "code",
   "execution_count": 54,
   "metadata": {},
   "outputs": [],
   "source": [
    "def generate_expression(operators, brace_num):\n",
    "    result = []\n",
    "    for i in brace_num:\n",
    "        result.append(join_op_with_brace_number(operators, i))\n",
    "    return result"
   ]
  },
  {
   "cell_type": "code",
   "execution_count": 65,
   "metadata": {},
   "outputs": [
    {
     "data": {
      "text/plain": [
       "['1', '2', '3', '4']"
      ]
     },
     "execution_count": 65,
     "metadata": {},
     "output_type": "execute_result"
    }
   ],
   "source": [
    "\"1 2 3 4\".split()"
   ]
  },
  {
   "cell_type": "code",
   "execution_count": 62,
   "metadata": {},
   "outputs": [],
   "source": [
    "operators = [random.choice(op_set) for i in range(3)]"
   ]
  },
  {
   "cell_type": "code",
   "execution_count": 73,
   "metadata": {},
   "outputs": [
    {
     "data": {
      "text/plain": [
       "['(11 * (6 + (5 + 4)))',\n",
       " '(11 * ((6 + 5) + 4))',\n",
       " '((11 * 6) + (5 + 4))',\n",
       " '((11 * (6 + 5)) + 4)',\n",
       " '(((11 * 6) + 5) + 4)']"
      ]
     },
     "execution_count": 73,
     "metadata": {},
     "output_type": "execute_result"
    }
   ],
   "source": [
    "length = 4\n",
    "generate_expression([random.choice(op_set) for i in range(length-1)],add_brace(num))"
   ]
  },
  {
   "cell_type": "code",
   "execution_count": 74,
   "metadata": {},
   "outputs": [],
   "source": [
    "def random_real_card():\n",
    "    cards = '2 3 4 5 6 7 8 9 10 J Q K A'.split()\n",
    "    color = '红桃 黑桃 方片 梅花'.split()\n",
    "    \n",
    "    return random.choice(color)+random.choice(cards)"
   ]
  },
  {
   "cell_type": "code",
   "execution_count": 154,
   "metadata": {},
   "outputs": [
    {
     "data": {
      "text/plain": [
       "['方片8', '黑桃7', '红桃4', '方片7']"
      ]
     },
     "execution_count": 154,
     "metadata": {},
     "output_type": "execute_result"
    }
   ],
   "source": [
    "[random_real_card() for _ in range(4)]"
   ]
  },
  {
   "cell_type": "code",
   "execution_count": 90,
   "metadata": {},
   "outputs": [],
   "source": [
    "def get_cardnum(cards):\n",
    "    result = []\n",
    "    for i in range(len(cards)):\n",
    "        num = cards[i][2]\n",
    "        if num =='J':\n",
    "            num = '11'\n",
    "        elif num =='Q':\n",
    "            num = '12'\n",
    "        elif num =='K':\n",
    "            num = '13'\n",
    "        elif num =='A':\n",
    "            num = '1'\n",
    "        result.append(num)\n",
    "    return result"
   ]
  },
  {
   "cell_type": "code",
   "execution_count": 96,
   "metadata": {},
   "outputs": [],
   "source": [
    "def get_combin_op(cards):\n",
    "    card1,card2,card3,card4 = cards\n",
    "    expressions = []\n",
    "    operators = ['+','-','*','/']\n",
    "    for p in product(operators,repeat = len(cards)-1):\n",
    "        op1,op2,op3 = p\n",
    "        expressions.append(\"{}{}{}{}{}{}{}\".format(card1,op1,card2,op2,card3,op3,card4))\n",
    "    return expressions"
   ]
  },
  {
   "cell_type": "code",
   "execution_count": 106,
   "metadata": {},
   "outputs": [],
   "source": [
    "def get_combin_op_with_brace(with_brace_cards):\n",
    "    expressions = []\n",
    "    operators = ['+','-','*','/']\n",
    "    for i in with_brace_cards:\n",
    "        card1,card2,card3,card4 = i\n",
    "        for p in product(operators,repeat = len(cards)-1):\n",
    "            op1,op2,op3 = p\n",
    "            expressions.append(\"{}{}{}{}{}{}{}\".format(card1,op1,card2,op2,card3,op3,card4))\n",
    "    return expressions"
   ]
  },
  {
   "cell_type": "code",
   "execution_count": 137,
   "metadata": {},
   "outputs": [],
   "source": [
    "def cal_total(setOFexp,Target=24):\n",
    "    for i in setOFexp:\n",
    "        if eval(i) == Target:\n",
    "            print(\"hit!!{}\".format(i))"
   ]
  },
  {
   "cell_type": "code",
   "execution_count": 208,
   "metadata": {},
   "outputs": [],
   "source": [
    "def get_all_combin_with_brace(card_num):\n",
    "    result = []\n",
    "    for i in permutations(card_num):\n",
    "        with_brace_num = add_brace(i)     #加括号\n",
    "        result.append(with_brace_num)\n",
    "    return result"
   ]
  },
  {
   "cell_type": "code",
   "execution_count": 253,
   "metadata": {},
   "outputs": [],
   "source": [
    "def add_brace_allcombin(card_num):\n",
    "    result = []\n",
    "    for i in permutations(card_num):\n",
    "        with_brace_num = add_brace(list(i))\n",
    "        for j in with_brace_num:\n",
    "            result.append(j)\n",
    "    return result"
   ]
  },
  {
   "cell_type": "code",
   "execution_count": 277,
   "metadata": {},
   "outputs": [],
   "source": [
    "def solve_24_point_real_word(cards):\n",
    "    \"\"\"\n",
    "    写出24点的真实世界代码，注意A就可以做 1 也可以 做14 \n",
    "    这个问题怎么解决？ \n",
    "    \"\"\"\n",
    "    card_num = get_cardnum(cards)    #获取数字\n",
    "    all_combin_with_brace_num = add_brace_allcombin(card_num)     #加括号以及排序，在排序中调用了加括号\n",
    "    all_exp = get_combin_op_with_brace(all_combin_with_brace_num)       #添加所有表达式计算符号\n",
    "    cal_total(all_exp,Target=24)   #计算结果，返回计算公式，可用其他目标数值"
   ]
  },
  {
   "cell_type": "code",
   "execution_count": 278,
   "metadata": {},
   "outputs": [
    {
     "name": "stdout",
     "output_type": "stream",
     "text": [
      "hit!!((11+1)*(6-4))\n",
      "hit!!((11+(1-6))*4)\n",
      "hit!!(((11+1)-6)*4)\n",
      "hit!!((11-(6-1))*4)\n",
      "hit!!(((11-6)+1)*4)\n",
      "hit!!((1+11)*(6-4))\n",
      "hit!!((1+(11-6))*4)\n",
      "hit!!(((1+11)-6)*4)\n",
      "hit!!((1-(6-11))*4)\n",
      "hit!!(((1-6)+11)*4)\n",
      "hit!!(4*(11+(1-6)))\n",
      "hit!!(4*((11+1)-6))\n",
      "hit!!(4*(11-(6-1)))\n",
      "hit!!(4*((11-6)+1))\n",
      "hit!!(4*(1+(11-6)))\n",
      "hit!!(4*((1+11)-6))\n",
      "hit!!(4*(1-(6-11)))\n",
      "hit!!(4*((1-6)+11))\n",
      "hit!!((6-4)*(11+1))\n",
      "hit!!((6-4)*(1+11))\n"
     ]
    }
   ],
   "source": [
    "solve_24_point_real_word(['梅花J', '方片A', '红桃4', '红桃6'])"
   ]
  },
  {
   "cell_type": "code",
   "execution_count": 140,
   "metadata": {},
   "outputs": [],
   "source": [
    "cards = ['梅花J', '方片A', '红桃4', '红桃6']"
   ]
  },
  {
   "cell_type": "code",
   "execution_count": 262,
   "metadata": {},
   "outputs": [
    {
     "name": "stdout",
     "output_type": "stream",
     "text": [
      "['11', '1', '4', '6']\n"
     ]
    }
   ],
   "source": [
    "card_num = get_cardnum(cards)    #获取数字\n",
    "print(card_num)"
   ]
  },
  {
   "cell_type": "code",
   "execution_count": 256,
   "metadata": {},
   "outputs": [
    {
     "data": {
      "text/plain": [
       "120"
      ]
     },
     "execution_count": 256,
     "metadata": {},
     "output_type": "execute_result"
    }
   ],
   "source": [
    "all_combin_with_brace_num = add_brace_allcombin(card_num)     #加括号\n",
    "len(all_combin_with_brace_num)"
   ]
  },
  {
   "cell_type": "code",
   "execution_count": 269,
   "metadata": {},
   "outputs": [],
   "source": [
    "all_exp = get_combin_op_with_brace(all_combin_with_brace_num)       #添加所有表达式计算符号"
   ]
  },
  {
   "cell_type": "code",
   "execution_count": 270,
   "metadata": {},
   "outputs": [
    {
     "name": "stdout",
     "output_type": "stream",
     "text": [
      "hit!!((11+1)*(6-4))\n",
      "hit!!((11+(1-6))*4)\n",
      "hit!!(((11+1)-6)*4)\n",
      "hit!!((11-(6-1))*4)\n",
      "hit!!(((11-6)+1)*4)\n",
      "hit!!((1+11)*(6-4))\n",
      "hit!!((1+(11-6))*4)\n",
      "hit!!(((1+11)-6)*4)\n",
      "hit!!((1-(6-11))*4)\n",
      "hit!!(((1-6)+11)*4)\n",
      "hit!!(4*(11+(1-6)))\n",
      "hit!!(4*((11+1)-6))\n",
      "hit!!(4*(11-(6-1)))\n",
      "hit!!(4*((11-6)+1))\n",
      "hit!!(4*(1+(11-6)))\n",
      "hit!!(4*((1+11)-6))\n",
      "hit!!(4*(1-(6-11)))\n",
      "hit!!(4*((1-6)+11))\n",
      "hit!!((6-4)*(11+1))\n",
      "hit!!((6-4)*(1+11))\n"
     ]
    }
   ],
   "source": [
    "cal_total(all_exp)   #计算结果，返回计算公式"
   ]
  },
  {
   "cell_type": "code",
   "execution_count": null,
   "metadata": {},
   "outputs": [],
   "source": []
  }
 ],
 "metadata": {
  "kernelspec": {
   "display_name": "Python 3",
   "language": "python",
   "name": "python3"
  },
  "language_info": {
   "codemirror_mode": {
    "name": "ipython",
    "version": 3
   },
   "file_extension": ".py",
   "mimetype": "text/x-python",
   "name": "python",
   "nbconvert_exporter": "python",
   "pygments_lexer": "ipython3",
   "version": "3.7.2"
  }
 },
 "nbformat": 4,
 "nbformat_minor": 4
}
